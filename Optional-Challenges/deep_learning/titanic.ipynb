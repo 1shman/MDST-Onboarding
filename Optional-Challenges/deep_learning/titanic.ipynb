{
 "cells": [
  {
   "cell_type": "markdown",
   "metadata": {},
   "source": [
    "# Deep Learning Challenge (optional)\n",
    "\n",
    "![](./titanic_intro.png)\n",
    "\n",
    "In the early 20th century, the RMS Titanic was the pinnacle of luxury and innovation, a marvel of modern engineering. It was hailed as the \"unsinkable\" ship, carrying over 2,200 passengers and crew on its maiden voyage across the Atlantic. However, in the icy waters of the North Atlantic, disaster struck, and the unthinkable happened—the Titanic collided with an iceberg and sank, leading to one of the most tragic maritime disasters in history.\n",
    "\n",
    "Now, over a century later, you are tasked with an important mission: to delve into the historical data and build a predictive model that could have foretold the fate of the passengers aboard the Titanic. This dataset contains detailed records of the passengers, including information such as age, gender, ticket class, family size, and more. **Your goal is to develop a neural network model that accurately predicts whether a passenger would have survived or perished on that fateful night.**\n",
    "\n",
    "Your predictive model won't just be a technical achievement; it will serve as a lens through which we can better understand the human factors and decisions that played a critical role in survival. As you work through this challenge, you’ll follow the standard deep learning workflow, applying your skills to each stage:\n",
    "\n",
    "- Data Collection: The data you need has already been gathered from historical records.\n",
    "- Data Preprocessing: Clean and prepare the data for analysis (partially done for you).\n",
    "- Exploratory Data Analysis (EDA): Investigate the data and uncover key patterns (partially done for you).\n",
    "- Feature Engineering: Create or modify features to enhance your model’s performance (paritally done for you).\n",
    "- Model Architecture Design: Choose an appropriate structure for your neural network model.\n",
    "- Training: Train your model using the provided dataset.\n",
    "- Evaluation: Assess your model's accuracy using a validation set and other techniques.\n",
    "- Hyperparameter Tuning: Fine-tune the model’s parameters to improve performance.\n",
    "- Model Testing: Test your final model on a separate test set.\n",
    "\n",
    "\n",
    "\n",
    "Please include ALL your work and thought process in this notebook. We recommend using pytorch (preferred) or tensorflow for developing your neural network model."
   ]
  },
  {
   "cell_type": "code",
   "execution_count": null,
   "metadata": {},
   "outputs": [],
   "source": [
    "import pandas as pd\n",
    "import matplotlib.pyplot as plt\n",
    "import seaborn as sns\n",
    "# any other packages you would like to use\n",
    "# (scikit-learn, pytorch, tensorflow, etc.)\n",
    "\n",
    "%matplotlib inline\n",
    "\n"
   ]
  },
  {
   "cell_type": "code",
   "execution_count": null,
   "metadata": {},
   "outputs": [],
   "source": [
    "# sibsp        # number of siblings / spouses aboard the Titanic \t\n",
    "# parch        # number of parents / children aboard the Titanic \t\n",
    "# ticket       # Ticket number \t\n",
    "# fare         # Passenger fare\n",
    "# cabin        # Cabin number\n",
    "# embark_town  # Port of Embarkation \t\n",
    "\n",
    "#sibsp: The dataset defines family relations in this way:\n",
    "#Sibling = brother, sister, stepbrother, stepsister\n",
    "#Spouse = husband, wife (mistresses and fiancés were ignored)\n",
    "\n",
    "#parch: The dataset defines family relations in this way:\n",
    "#Parent = mother, father\n",
    "#Child = daughter, son, stepdaughter, stepson\n",
    "#Some children travelled only with a nanny, therefore parch=0 for them.\n",
    "\n",
    "# load titanic dataset\n",
    "df = sns.load_dataset(\"titanic\")"
   ]
  },
  {
   "cell_type": "markdown",
   "metadata": {},
   "source": [
    "### Exploratory Data Analysis\n",
    "Provided below is some starter code to help familiarize yourself with the Titanic dataset. Further data analysis is not required, but is encouraged to obtain information for the development of your model."
   ]
  },
  {
   "cell_type": "code",
   "execution_count": null,
   "metadata": {},
   "outputs": [],
   "source": [
    "df.head()"
   ]
  },
  {
   "cell_type": "code",
   "execution_count": null,
   "metadata": {},
   "outputs": [],
   "source": [
    "# df.shape\n",
    "# df.isna().sum()\n",
    "# df.describe()\n",
    "\n",
    "# Countplot for Survived\n",
    "#plt.figure(figsize=(8, 6))\n",
    "#sns.countplot(x='survived', data=df, palette='Set2')\n",
    "#plt.title('Survival Count')\n",
    "#plt.xlabel('Survived (0 = No, 1 = Yes)')\n",
    "#plt.ylabel('Count')\n",
    "#plt.show()\n",
    "\n",
    "# Countplot for Pclass\n",
    "#plt.figure(figsize=(8, 6))\n",
    "#sns.countplot(x='pclass', data=df, palette='Set3')\n",
    "#plt.title('Passenger Class Distribution')\n",
    "#plt.xlabel('Passenger Class')\n",
    "#plt.ylabel('Count')\n",
    "#plt.show()\n",
    "\n",
    "# Distribution of Age\n",
    "#plt.figure(figsize=(10, 6))\n",
    "#sns.histplot(df['age'].dropna(), kde=True, bins=30, color='blue')\n",
    "#plt.title('Age Distribution of Passengers')\n",
    "#plt.xlabel('Age')\n",
    "#plt.ylabel('Frequency')\n",
    "#plt.show()\n",
    "\n",
    "# Survival by Sex\n",
    "#plt.figure(figsize=(8, 6))\n",
    "#sns.countplot(x='sex', hue='survived', data=df, palette='Set1')\n",
    "#plt.title('Survival by Sex')\n",
    "#plt.xlabel('Sex')\n",
    "#plt.ylabel('Count')\n",
    "#plt.show()\n",
    "\n",
    "# Survival by Passenger Class\n",
    "#plt.figure(figsize=(8, 6))\n",
    "#sns.countplot(x='pclass', hue='survived', data=df, palette='Set2')\n",
    "#plt.title('Survival by Passenger Class')\n",
    "#plt.xlabel('Passenger Class')\n",
    "#plt.ylabel('Count')\n",
    "#plt.show()\n",
    "\n",
    "# Survival by Embark Town\n",
    "#plt.figure(figsize=(8, 6))\n",
    "#sns.countplot(x='embark_town', hue='survived', data=df, palette='Set1')\n",
    "#plt.title('Survival by Embarkation Town')\n",
    "#plt.xlabel('Embarkation Town')\n",
    "#plt.ylabel('Count')\n",
    "#plt.show()"
   ]
  },
  {
   "cell_type": "markdown",
   "metadata": {},
   "source": [
    "### Data Preprocessing"
   ]
  },
  {
   "cell_type": "code",
   "execution_count": null,
   "metadata": {},
   "outputs": [],
   "source": [
    "# drop columns that are redundant or contain many NaN values\n",
    "df = df.drop([\"pclass\", \"alive\", \"embarked\", \"alone\", \"adult_male\", \"deck\", \"age\"], axis = 1)\n",
    "df = df.dropna(subset=[\"embark_town\"])\n",
    "\n",
    "# TODO: Further data preprocessing (optional)\n"
   ]
  },
  {
   "cell_type": "markdown",
   "metadata": {},
   "source": [
    "### Feature Engineering"
   ]
  },
  {
   "cell_type": "code",
   "execution_count": null,
   "metadata": {},
   "outputs": [],
   "source": [
    "# One Hot Encode categorical variables\n",
    "df[\"sex\"] = df[\"sex\"].map({\"male\": 0, \"female\": 1})\n",
    "for label in [\"class\", \"who\", \"embark_town\"]:\n",
    "    df = df.join(pd.get_dummies(df[label], prefix=label))\n",
    "    df = df.drop(label, axis=1)\n",
    "\n",
    "# TODO: Further feature engineering (optional)"
   ]
  },
  {
   "cell_type": "markdown",
   "metadata": {},
   "source": [
    "### Model Development"
   ]
  },
  {
   "cell_type": "code",
   "execution_count": null,
   "metadata": {},
   "outputs": [],
   "source": [
    "# TODO"
   ]
  }
 ],
 "metadata": {
  "kernelspec": {
   "display_name": ".venv",
   "language": "python",
   "name": "python3"
  },
  "language_info": {
   "codemirror_mode": {
    "name": "ipython",
    "version": 3
   },
   "file_extension": ".py",
   "mimetype": "text/x-python",
   "name": "python",
   "nbconvert_exporter": "python",
   "pygments_lexer": "ipython3",
   "version": "3.12.4"
  }
 },
 "nbformat": 4,
 "nbformat_minor": 2
}
